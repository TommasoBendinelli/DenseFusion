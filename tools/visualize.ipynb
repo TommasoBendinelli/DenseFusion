{
 "nbformat": 4,
 "nbformat_minor": 2,
 "metadata": {
  "language_info": {
   "name": "python",
   "codemirror_mode": {
    "name": "ipython",
    "version": 3
   },
   "version": "3.6.9-final"
  },
  "orig_nbformat": 2,
  "file_extension": ".py",
  "mimetype": "text/x-python",
  "name": "python",
  "npconvert_exporter": "python",
  "pygments_lexer": "ipython3",
  "version": 3,
  "kernelspec": {
   "name": "python36964bitenvvenv8604b6c253a84b72ac102201b474f8a2",
   "display_name": "Python 3.6.9 64-bit ('env': venv)"
  }
 },
 "cells": [
  {
   "cell_type": "code",
   "execution_count": 1,
   "metadata": {},
   "outputs": [
    {
     "output_type": "error",
     "ename": "ModuleNotFoundError",
     "evalue": "No module named 'datasets'",
     "traceback": [
      "\u001b[0;31m---------------------------------------------------------------------------\u001b[0m",
      "\u001b[0;31mModuleNotFoundError\u001b[0m                       Traceback (most recent call last)",
      "\u001b[0;32m<ipython-input-1-1d4b7932176d>\u001b[0m in \u001b[0;36m<module>\u001b[0;34m\u001b[0m\n\u001b[1;32m     16\u001b[0m \u001b[0;32mimport\u001b[0m \u001b[0mtorchvision\u001b[0m\u001b[0;34m.\u001b[0m\u001b[0mutils\u001b[0m \u001b[0;32mas\u001b[0m \u001b[0mvutils\u001b[0m\u001b[0;34m\u001b[0m\u001b[0;34m\u001b[0m\u001b[0m\n\u001b[1;32m     17\u001b[0m \u001b[0;32mfrom\u001b[0m \u001b[0mtorch\u001b[0m\u001b[0;34m.\u001b[0m\u001b[0mautograd\u001b[0m \u001b[0;32mimport\u001b[0m \u001b[0mVariable\u001b[0m\u001b[0;34m\u001b[0m\u001b[0;34m\u001b[0m\u001b[0m\n\u001b[0;32m---> 18\u001b[0;31m \u001b[0;32mfrom\u001b[0m \u001b[0mdatasets\u001b[0m\u001b[0;34m.\u001b[0m\u001b[0mlinemod\u001b[0m\u001b[0;34m.\u001b[0m\u001b[0mdataset\u001b[0m \u001b[0;32mimport\u001b[0m \u001b[0mPoseDataset\u001b[0m \u001b[0;32mas\u001b[0m \u001b[0mPoseDataset_linemod\u001b[0m\u001b[0;34m\u001b[0m\u001b[0;34m\u001b[0m\u001b[0m\n\u001b[0m\u001b[1;32m     19\u001b[0m \u001b[0;32mfrom\u001b[0m \u001b[0mlib\u001b[0m\u001b[0;34m.\u001b[0m\u001b[0mnetwork\u001b[0m \u001b[0;32mimport\u001b[0m \u001b[0mPoseNet\u001b[0m\u001b[0;34m,\u001b[0m \u001b[0mPoseRefineNet\u001b[0m\u001b[0;34m\u001b[0m\u001b[0;34m\u001b[0m\u001b[0m\n\u001b[1;32m     20\u001b[0m \u001b[0;32mfrom\u001b[0m \u001b[0mlib\u001b[0m\u001b[0;34m.\u001b[0m\u001b[0mloss\u001b[0m \u001b[0;32mimport\u001b[0m \u001b[0mLoss\u001b[0m\u001b[0;34m\u001b[0m\u001b[0;34m\u001b[0m\u001b[0m\n",
      "\u001b[0;31mModuleNotFoundError\u001b[0m: No module named 'datasets'"
     ]
    }
   ],
   "source": [
    "import _init_paths\n",
    "import argparse\n",
    "import os\n",
    "import random\n",
    "import numpy as np\n",
    "import yaml\n",
    "import copy\n",
    "import torch\n",
    "import torch.nn as nn\n",
    "import torch.nn.parallel\n",
    "import torch.backends.cudnn as cudnn\n",
    "import torch.optim as optim\n",
    "import torch.utils.data\n",
    "import torchvision.datasets as dset\n",
    "import torchvision.transforms as transforms\n",
    "import torchvision.utils as vutils\n",
    "from torch.autograd import Variable\n",
    "from datasets.linemod.dataset import PoseDataset as PoseDataset_linemod\n",
    "from lib.network import PoseNet, PoseRefineNet\n",
    "from lib.loss import Loss\n",
    "from lib.loss_refiner import Loss_refine\n",
    "from lib.transformations import euler_matrix, quaternion_matrix, quaternion_from_matrix\n",
    "from lib.knn.__init__ import KNearestNeighbor\n",
    "\n",
    "parser = argparse.ArgumentParser()\n",
    "parser.add_argument('--dataset_root', type=str, default = '', help='dataset root dir')\n",
    "parser.add_argument('--model', type=str, default = '',  help='resume PoseNet model')\n",
    "parser.add_argument('--refine_model', type=str, default = '',  help='resume PoseRefineNet model')\n",
    "opt = parser.parse_args()\n",
    "\n",
    "num_objects = 13\n",
    "objlist = [1, 2, 4, 5, 6, 8, 9, 10, 11, 12, 13, 14, 15]\n",
    "num_points = 500\n",
    "iteration = 4\n",
    "bs = 1\n",
    "dataset_config_dir = 'datasets/linemod/dataset_config'\n",
    "output_result_dir = 'experiments/eval_result/linemod'\n",
    "knn = KNearestNeighbor(1)\n",
    "\n",
    "estimator = PoseNet(num_points = num_points, num_obj = num_objects)\n",
    "estimator.cuda()\n",
    "refiner = PoseRefineNet(num_points = num_points, num_obj = num_objects)\n",
    "refiner.cuda()\n",
    "estimator.load_state_dict(torch.load(opt.model))\n",
    "refiner.load_state_dict(torch.load(opt.refine_model))\n",
    "estimator.eval()\n",
    "refiner.eval()\n",
    "\n",
    "testdataset = PoseDataset_linemod('eval', num_points, False, opt.dataset_root, 0.0, True)\n",
    "testdataloader = torch.utils.data.DataLoader(testdataset, batch_size=1, shuffle=False, num_workers=0) #Change me back\n",
    "\n",
    "sym_list = testdataset.get_sym_list()\n",
    "num_points_mesh = testdataset.get_num_points_mesh()\n",
    "criterion = Loss(num_points_mesh, sym_list)\n",
    "criterion_refine = Loss_refine(num_points_mesh, sym_list)\n",
    "\n",
    "diameter = []\n",
    "meta_file = open('{0}/models_info.yml'.format(dataset_config_dir), 'r')\n",
    "meta = yaml.load(meta_file)\n",
    "for obj in objlist:\n",
    "    diameter.append(meta[obj]['diameter'] / 1000.0 * 0.1)\n",
    "print(diameter)\n",
    "\n",
    "success_count = [0 for i in range(num_objects)]\n",
    "num_count = [0 for i in range(num_objects)]\n",
    "fw = open('{0}/eval_result_logs.txt'.format(output_result_dir), 'w')\n",
    "\n",
    "\n",
    ""
   ]
  },
  {
   "cell_type": "code",
   "execution_count": null,
   "metadata": {},
   "outputs": [],
   "source": []
  }
 ]
}